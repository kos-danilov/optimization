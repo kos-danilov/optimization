{
 "cells": [
  {
   "cell_type": "code",
   "execution_count": 12,
   "metadata": {},
   "outputs": [],
   "source": [
    "import numpy as np\n",
    "import seaborn as sns\n",
    "import pandas as pd\n",
    "import scipy"
   ]
  },
  {
   "cell_type": "markdown",
   "metadata": {},
   "source": [
    "# data"
   ]
  },
  {
   "cell_type": "code",
   "execution_count": 13,
   "metadata": {},
   "outputs": [],
   "source": [
    "check = pd.read_csv(\"task4.tsv\", sep = \"\\t\")"
   ]
  },
  {
   "cell_type": "code",
   "execution_count": 14,
   "metadata": {},
   "outputs": [
    {
     "data": {
      "text/plain": [
       "<AxesSubplot:xlabel='X1', ylabel='Y0'>"
      ]
     },
     "execution_count": 14,
     "metadata": {},
     "output_type": "execute_result"
    },
    {
     "data": {
      "image/png": "[encoded data removed]",
      "text/plain": [
       "<Figure size 432x288 with 1 Axes>"
      ]
     },
     "metadata": {
      "needs_background": "light"
     },
     "output_type": "display_data"
    }
   ],
   "source": [
    "sns.scatterplot(x=check.X1, y=check.Y0)"
   ]
  },
  {
   "cell_type": "code",
   "execution_count": 15,
   "metadata": {},
   "outputs": [],
   "source": [
    "X = check[[\"X1\", \"X2\"]]"
   ]
  },
  {
   "cell_type": "markdown",
   "metadata": {},
   "source": [
    "## unconstrained gradient descent"
   ]
  },
  {
   "cell_type": "code",
   "execution_count": 16,
   "metadata": {},
   "outputs": [],
   "source": [
    "start = np.zeros(507)"
   ]
  },
  {
   "cell_type": "code",
   "execution_count": 17,
   "metadata": {},
   "outputs": [],
   "source": [
    "def gradient_descent(y, y0, learn_rate=0.1, n_iter=50):\n",
    "    for i in range(n_iter):\n",
    "        gradient = 2*(y - y0)\n",
    "        y = y - learn_rate*gradient\n",
    "    return y"
   ]
  },
  {
   "cell_type": "code",
   "execution_count": 18,
   "metadata": {},
   "outputs": [
    {
     "data": {
      "text/plain": [
       "0      4.649934\n",
       "1      4.649934\n",
       "2      4.649934\n",
       "3      4.599934\n",
       "4      4.599934\n",
       "         ...   \n",
       "502    0.399994\n",
       "503    0.399994\n",
       "504    0.399994\n",
       "505    0.399994\n",
       "506    0.399994\n",
       "Name: Y0, Length: 507, dtype: float64"
      ]
     },
     "execution_count": 18,
     "metadata": {},
     "output_type": "execute_result"
    }
   ],
   "source": [
    "gradient_descent(start, check.Y0)"
   ]
  },
  {
   "cell_type": "markdown",
   "metadata": {},
   "source": [
    "# constrained gradient descent"
   ]
  },
  {
   "cell_type": "markdown",
   "metadata": {},
   "source": [
    "## matrix of constraints"
   ]
  },
  {
   "cell_type": "code",
   "execution_count": 19,
   "metadata": {},
   "outputs": [],
   "source": [
    "A = np.linalg.inv(X.transpose() @ X) @ X.transpose()"
   ]
  },
  {
   "cell_type": "code",
   "execution_count": 20,
   "metadata": {
    "scrolled": true
   },
   "outputs": [
    {
     "data": {
      "text/html": [
       "<div>\n",
       "<style scoped>\n",
       "    .dataframe tbody tr th:only-of-type {\n",
       "        vertical-align: middle;\n",
       "    }\n",
       "\n",
       "    .dataframe tbody tr th {\n",
       "        vertical-align: top;\n",
       "    }\n",
       "\n",
       "    .dataframe thead th {\n",
       "        text-align: right;\n",
       "    }\n",
       "</style>\n",
       "<table border=\"1\" class=\"dataframe\">\n",
       "  <thead>\n",
       "    <tr style=\"text-align: right;\">\n",
       "      <th></th>\n",
       "      <th>0</th>\n",
       "      <th>1</th>\n",
       "      <th>2</th>\n",
       "      <th>3</th>\n",
       "      <th>4</th>\n",
       "      <th>5</th>\n",
       "      <th>6</th>\n",
       "      <th>7</th>\n",
       "      <th>8</th>\n",
       "      <th>9</th>\n",
       "      <th>...</th>\n",
       "      <th>497</th>\n",
       "      <th>498</th>\n",
       "      <th>499</th>\n",
       "      <th>500</th>\n",
       "      <th>501</th>\n",
       "      <th>502</th>\n",
       "      <th>503</th>\n",
       "      <th>504</th>\n",
       "      <th>505</th>\n",
       "      <th>506</th>\n",
       "    </tr>\n",
       "  </thead>\n",
       "  <tbody>\n",
       "    <tr>\n",
       "      <th>0</th>\n",
       "      <td>0.001007</td>\n",
       "      <td>0.000881</td>\n",
       "      <td>0.000755</td>\n",
       "      <td>0.001638</td>\n",
       "      <td>0.001133</td>\n",
       "      <td>0.000881</td>\n",
       "      <td>0.000628</td>\n",
       "      <td>0.000502</td>\n",
       "      <td>0.001511</td>\n",
       "      <td>0.000881</td>\n",
       "      <td>...</td>\n",
       "      <td>0.000502</td>\n",
       "      <td>0.000376</td>\n",
       "      <td>-0.001642</td>\n",
       "      <td>-0.001768</td>\n",
       "      <td>0.002899</td>\n",
       "      <td>0.002773</td>\n",
       "      <td>0.002647</td>\n",
       "      <td>-0.001137</td>\n",
       "      <td>-0.001264</td>\n",
       "      <td>-0.001390</td>\n",
       "    </tr>\n",
       "    <tr>\n",
       "      <th>1</th>\n",
       "      <td>-0.001251</td>\n",
       "      <td>-0.000847</td>\n",
       "      <td>-0.000443</td>\n",
       "      <td>-0.003269</td>\n",
       "      <td>-0.001654</td>\n",
       "      <td>-0.000847</td>\n",
       "      <td>-0.000039</td>\n",
       "      <td>0.000365</td>\n",
       "      <td>-0.002866</td>\n",
       "      <td>-0.000847</td>\n",
       "      <td>...</td>\n",
       "      <td>0.000365</td>\n",
       "      <td>0.000768</td>\n",
       "      <td>0.007228</td>\n",
       "      <td>0.007632</td>\n",
       "      <td>-0.007307</td>\n",
       "      <td>-0.006903</td>\n",
       "      <td>-0.006499</td>\n",
       "      <td>0.005613</td>\n",
       "      <td>0.006017</td>\n",
       "      <td>0.006421</td>\n",
       "    </tr>\n",
       "  </tbody>\n",
       "</table>\n",
       "<p>2 rows × 507 columns</p>\n",
       "</div>"
      ],
      "text/plain": [
       "        0         1         2         3         4         5         6    \\\n",
       "0  0.001007  0.000881  0.000755  0.001638  0.001133  0.000881  0.000628   \n",
       "1 -0.001251 -0.000847 -0.000443 -0.003269 -0.001654 -0.000847 -0.000039   \n",
       "\n",
       "        7         8         9    ...       497       498       499       500  \\\n",
       "0  0.000502  0.001511  0.000881  ...  0.000502  0.000376 -0.001642 -0.001768   \n",
       "1  0.000365 -0.002866 -0.000847  ...  0.000365  0.000768  0.007228  0.007632   \n",
       "\n",
       "        501       502       503       504       505       506  \n",
       "0  0.002899  0.002773  0.002647 -0.001137 -0.001264 -0.001390  \n",
       "1 -0.007307 -0.006903 -0.006499  0.005613  0.006017  0.006421  \n",
       "\n",
       "[2 rows x 507 columns]"
      ]
     },
     "execution_count": 20,
     "metadata": {},
     "output_type": "execute_result"
    }
   ],
   "source": [
    "A"
   ]
  },
  {
   "cell_type": "markdown",
   "metadata": {},
   "source": [
    "## orthonormal basis"
   ]
  },
  {
   "cell_type": "code",
   "execution_count": 21,
   "metadata": {},
   "outputs": [],
   "source": [
    "Z = scipy.linalg.null_space(A)"
   ]
  },
  {
   "cell_type": "code",
   "execution_count": 22,
   "metadata": {
    "scrolled": true
   },
   "outputs": [
    {
     "data": {
      "text/html": [
       "<div>\n",
       "<style scoped>\n",
       "    .dataframe tbody tr th:only-of-type {\n",
       "        vertical-align: middle;\n",
       "    }\n",
       "\n",
       "    .dataframe tbody tr th {\n",
       "        vertical-align: top;\n",
       "    }\n",
       "\n",
       "    .dataframe thead th {\n",
       "        text-align: right;\n",
       "    }\n",
       "</style>\n",
       "<table border=\"1\" class=\"dataframe\">\n",
       "  <thead>\n",
       "    <tr style=\"text-align: right;\">\n",
       "      <th></th>\n",
       "      <th>0</th>\n",
       "      <th>1</th>\n",
       "      <th>2</th>\n",
       "      <th>3</th>\n",
       "      <th>4</th>\n",
       "      <th>5</th>\n",
       "      <th>6</th>\n",
       "      <th>7</th>\n",
       "      <th>8</th>\n",
       "      <th>9</th>\n",
       "      <th>...</th>\n",
       "      <th>495</th>\n",
       "      <th>496</th>\n",
       "      <th>497</th>\n",
       "      <th>498</th>\n",
       "      <th>499</th>\n",
       "      <th>500</th>\n",
       "      <th>501</th>\n",
       "      <th>502</th>\n",
       "      <th>503</th>\n",
       "      <th>504</th>\n",
       "    </tr>\n",
       "  </thead>\n",
       "  <tbody>\n",
       "    <tr>\n",
       "      <th>0</th>\n",
       "      <td>-0.016150</td>\n",
       "      <td>-0.033710</td>\n",
       "      <td>-0.023676</td>\n",
       "      <td>-0.018659</td>\n",
       "      <td>-0.013642</td>\n",
       "      <td>-0.011133</td>\n",
       "      <td>-0.031202</td>\n",
       "      <td>-0.018659</td>\n",
       "      <td>-0.016150</td>\n",
       "      <td>-0.008625</td>\n",
       "      <td>...</td>\n",
       "      <td>-0.011133</td>\n",
       "      <td>-0.008625</td>\n",
       "      <td>0.031512</td>\n",
       "      <td>0.034021</td>\n",
       "      <td>-0.058796</td>\n",
       "      <td>-0.056287</td>\n",
       "      <td>-0.053779</td>\n",
       "      <td>0.021478</td>\n",
       "      <td>0.023986</td>\n",
       "      <td>0.026495</td>\n",
       "    </tr>\n",
       "    <tr>\n",
       "      <th>1</th>\n",
       "      <td>-0.044035</td>\n",
       "      <td>-0.043572</td>\n",
       "      <td>-0.043836</td>\n",
       "      <td>-0.043969</td>\n",
       "      <td>-0.044101</td>\n",
       "      <td>-0.044168</td>\n",
       "      <td>-0.043638</td>\n",
       "      <td>-0.043969</td>\n",
       "      <td>-0.044035</td>\n",
       "      <td>-0.044234</td>\n",
       "      <td>...</td>\n",
       "      <td>-0.044168</td>\n",
       "      <td>-0.044234</td>\n",
       "      <td>-0.045293</td>\n",
       "      <td>-0.045359</td>\n",
       "      <td>-0.042909</td>\n",
       "      <td>-0.042976</td>\n",
       "      <td>-0.043042</td>\n",
       "      <td>-0.045028</td>\n",
       "      <td>-0.045095</td>\n",
       "      <td>-0.045161</td>\n",
       "    </tr>\n",
       "    <tr>\n",
       "      <th>2</th>\n",
       "      <td>0.997927</td>\n",
       "      <td>-0.002299</td>\n",
       "      <td>-0.002170</td>\n",
       "      <td>-0.002105</td>\n",
       "      <td>-0.002040</td>\n",
       "      <td>-0.002008</td>\n",
       "      <td>-0.002267</td>\n",
       "      <td>-0.002105</td>\n",
       "      <td>-0.002073</td>\n",
       "      <td>-0.001975</td>\n",
       "      <td>...</td>\n",
       "      <td>-0.002008</td>\n",
       "      <td>-0.001975</td>\n",
       "      <td>-0.001458</td>\n",
       "      <td>-0.001425</td>\n",
       "      <td>-0.002623</td>\n",
       "      <td>-0.002590</td>\n",
       "      <td>-0.002558</td>\n",
       "      <td>-0.001587</td>\n",
       "      <td>-0.001555</td>\n",
       "      <td>-0.001522</td>\n",
       "    </tr>\n",
       "    <tr>\n",
       "      <th>3</th>\n",
       "      <td>-0.002319</td>\n",
       "      <td>0.997152</td>\n",
       "      <td>-0.002546</td>\n",
       "      <td>-0.002394</td>\n",
       "      <td>-0.002243</td>\n",
       "      <td>-0.002167</td>\n",
       "      <td>-0.002773</td>\n",
       "      <td>-0.002394</td>\n",
       "      <td>-0.002319</td>\n",
       "      <td>-0.002092</td>\n",
       "      <td>...</td>\n",
       "      <td>-0.002167</td>\n",
       "      <td>-0.002092</td>\n",
       "      <td>-0.000881</td>\n",
       "      <td>-0.000805</td>\n",
       "      <td>-0.003605</td>\n",
       "      <td>-0.003530</td>\n",
       "      <td>-0.003454</td>\n",
       "      <td>-0.001184</td>\n",
       "      <td>-0.001108</td>\n",
       "      <td>-0.001032</td>\n",
       "    </tr>\n",
       "    <tr>\n",
       "      <th>4</th>\n",
       "      <td>-0.002178</td>\n",
       "      <td>-0.002535</td>\n",
       "      <td>0.997669</td>\n",
       "      <td>-0.002229</td>\n",
       "      <td>-0.002127</td>\n",
       "      <td>-0.002076</td>\n",
       "      <td>-0.002484</td>\n",
       "      <td>-0.002229</td>\n",
       "      <td>-0.002178</td>\n",
       "      <td>-0.002025</td>\n",
       "      <td>...</td>\n",
       "      <td>-0.002076</td>\n",
       "      <td>-0.002025</td>\n",
       "      <td>-0.001210</td>\n",
       "      <td>-0.001160</td>\n",
       "      <td>-0.003044</td>\n",
       "      <td>-0.002993</td>\n",
       "      <td>-0.002942</td>\n",
       "      <td>-0.001414</td>\n",
       "      <td>-0.001363</td>\n",
       "      <td>-0.001312</td>\n",
       "    </tr>\n",
       "    <tr>\n",
       "      <th>...</th>\n",
       "      <td>...</td>\n",
       "      <td>...</td>\n",
       "      <td>...</td>\n",
       "      <td>...</td>\n",
       "      <td>...</td>\n",
       "      <td>...</td>\n",
       "      <td>...</td>\n",
       "      <td>...</td>\n",
       "      <td>...</td>\n",
       "      <td>...</td>\n",
       "      <td>...</td>\n",
       "      <td>...</td>\n",
       "      <td>...</td>\n",
       "      <td>...</td>\n",
       "      <td>...</td>\n",
       "      <td>...</td>\n",
       "      <td>...</td>\n",
       "      <td>...</td>\n",
       "      <td>...</td>\n",
       "      <td>...</td>\n",
       "      <td>...</td>\n",
       "    </tr>\n",
       "    <tr>\n",
       "      <th>502</th>\n",
       "      <td>-0.002635</td>\n",
       "      <td>-0.003555</td>\n",
       "      <td>-0.003029</td>\n",
       "      <td>-0.002767</td>\n",
       "      <td>-0.002504</td>\n",
       "      <td>-0.002373</td>\n",
       "      <td>-0.003424</td>\n",
       "      <td>-0.002767</td>\n",
       "      <td>-0.002635</td>\n",
       "      <td>-0.002241</td>\n",
       "      <td>...</td>\n",
       "      <td>-0.002373</td>\n",
       "      <td>-0.002241</td>\n",
       "      <td>-0.000139</td>\n",
       "      <td>-0.000008</td>\n",
       "      <td>-0.004869</td>\n",
       "      <td>0.995263</td>\n",
       "      <td>-0.004606</td>\n",
       "      <td>-0.000665</td>\n",
       "      <td>-0.000534</td>\n",
       "      <td>-0.000402</td>\n",
       "    </tr>\n",
       "    <tr>\n",
       "      <th>503</th>\n",
       "      <td>-0.002600</td>\n",
       "      <td>-0.003476</td>\n",
       "      <td>-0.002976</td>\n",
       "      <td>-0.002725</td>\n",
       "      <td>-0.002475</td>\n",
       "      <td>-0.002350</td>\n",
       "      <td>-0.003351</td>\n",
       "      <td>-0.002725</td>\n",
       "      <td>-0.002600</td>\n",
       "      <td>-0.002225</td>\n",
       "      <td>...</td>\n",
       "      <td>-0.002350</td>\n",
       "      <td>-0.002225</td>\n",
       "      <td>-0.000222</td>\n",
       "      <td>-0.000097</td>\n",
       "      <td>-0.004728</td>\n",
       "      <td>-0.004603</td>\n",
       "      <td>0.995522</td>\n",
       "      <td>-0.000723</td>\n",
       "      <td>-0.000597</td>\n",
       "      <td>-0.000472</td>\n",
       "    </tr>\n",
       "    <tr>\n",
       "      <th>504</th>\n",
       "      <td>-0.001545</td>\n",
       "      <td>-0.001122</td>\n",
       "      <td>-0.001363</td>\n",
       "      <td>-0.001484</td>\n",
       "      <td>-0.001605</td>\n",
       "      <td>-0.001666</td>\n",
       "      <td>-0.001182</td>\n",
       "      <td>-0.001484</td>\n",
       "      <td>-0.001545</td>\n",
       "      <td>-0.001726</td>\n",
       "      <td>...</td>\n",
       "      <td>-0.001666</td>\n",
       "      <td>-0.001726</td>\n",
       "      <td>-0.002693</td>\n",
       "      <td>-0.002754</td>\n",
       "      <td>-0.000517</td>\n",
       "      <td>-0.000578</td>\n",
       "      <td>-0.000638</td>\n",
       "      <td>0.997548</td>\n",
       "      <td>-0.002512</td>\n",
       "      <td>-0.002572</td>\n",
       "    </tr>\n",
       "    <tr>\n",
       "      <th>505</th>\n",
       "      <td>-0.001510</td>\n",
       "      <td>-0.001043</td>\n",
       "      <td>-0.001310</td>\n",
       "      <td>-0.001443</td>\n",
       "      <td>-0.001576</td>\n",
       "      <td>-0.001643</td>\n",
       "      <td>-0.001110</td>\n",
       "      <td>-0.001443</td>\n",
       "      <td>-0.001510</td>\n",
       "      <td>-0.001710</td>\n",
       "      <td>...</td>\n",
       "      <td>-0.001643</td>\n",
       "      <td>-0.001710</td>\n",
       "      <td>-0.002776</td>\n",
       "      <td>-0.002842</td>\n",
       "      <td>-0.000377</td>\n",
       "      <td>-0.000443</td>\n",
       "      <td>-0.000510</td>\n",
       "      <td>-0.002509</td>\n",
       "      <td>0.997424</td>\n",
       "      <td>-0.002643</td>\n",
       "    </tr>\n",
       "    <tr>\n",
       "      <th>506</th>\n",
       "      <td>-0.001474</td>\n",
       "      <td>-0.000965</td>\n",
       "      <td>-0.001256</td>\n",
       "      <td>-0.001402</td>\n",
       "      <td>-0.001547</td>\n",
       "      <td>-0.001620</td>\n",
       "      <td>-0.001038</td>\n",
       "      <td>-0.001402</td>\n",
       "      <td>-0.001474</td>\n",
       "      <td>-0.001693</td>\n",
       "      <td>...</td>\n",
       "      <td>-0.001620</td>\n",
       "      <td>-0.001693</td>\n",
       "      <td>-0.002858</td>\n",
       "      <td>-0.002931</td>\n",
       "      <td>-0.000236</td>\n",
       "      <td>-0.000309</td>\n",
       "      <td>-0.000382</td>\n",
       "      <td>-0.002567</td>\n",
       "      <td>-0.002640</td>\n",
       "      <td>0.997287</td>\n",
       "    </tr>\n",
       "  </tbody>\n",
       "</table>\n",
       "<p>507 rows × 505 columns</p>\n",
       "</div>"
      ],
      "text/plain": [
       "          0         1         2         3         4         5         6    \\\n",
       "0   -0.016150 -0.033710 -0.023676 -0.018659 -0.013642 -0.011133 -0.031202   \n",
       "1   -0.044035 -0.043572 -0.043836 -0.043969 -0.044101 -0.044168 -0.043638   \n",
       "2    0.997927 -0.002299 -0.002170 -0.002105 -0.002040 -0.002008 -0.002267   \n",
       "3   -0.002319  0.997152 -0.002546 -0.002394 -0.002243 -0.002167 -0.002773   \n",
       "4   -0.002178 -0.002535  0.997669 -0.002229 -0.002127 -0.002076 -0.002484   \n",
       "..        ...       ...       ...       ...       ...       ...       ...   \n",
       "502 -0.002635 -0.003555 -0.003029 -0.002767 -0.002504 -0.002373 -0.003424   \n",
       "503 -0.002600 -0.003476 -0.002976 -0.002725 -0.002475 -0.002350 -0.003351   \n",
       "504 -0.001545 -0.001122 -0.001363 -0.001484 -0.001605 -0.001666 -0.001182   \n",
       "505 -0.001510 -0.001043 -0.001310 -0.001443 -0.001576 -0.001643 -0.001110   \n",
       "506 -0.001474 -0.000965 -0.001256 -0.001402 -0.001547 -0.001620 -0.001038   \n",
       "\n",
       "          7         8         9    ...       495       496       497  \\\n",
       "0   -0.018659 -0.016150 -0.008625  ... -0.011133 -0.008625  0.031512   \n",
       "1   -0.043969 -0.044035 -0.044234  ... -0.044168 -0.044234 -0.045293   \n",
       "2   -0.002105 -0.002073 -0.001975  ... -0.002008 -0.001975 -0.001458   \n",
       "3   -0.002394 -0.002319 -0.002092  ... -0.002167 -0.002092 -0.000881   \n",
       "4   -0.002229 -0.002178 -0.002025  ... -0.002076 -0.002025 -0.001210   \n",
       "..        ...       ...       ...  ...       ...       ...       ...   \n",
       "502 -0.002767 -0.002635 -0.002241  ... -0.002373 -0.002241 -0.000139   \n",
       "503 -0.002725 -0.002600 -0.002225  ... -0.002350 -0.002225 -0.000222   \n",
       "504 -0.001484 -0.001545 -0.001726  ... -0.001666 -0.001726 -0.002693   \n",
       "505 -0.001443 -0.001510 -0.001710  ... -0.001643 -0.001710 -0.002776   \n",
       "506 -0.001402 -0.001474 -0.001693  ... -0.001620 -0.001693 -0.002858   \n",
       "\n",
       "          498       499       500       501       502       503       504  \n",
       "0    0.034021 -0.058796 -0.056287 -0.053779  0.021478  0.023986  0.026495  \n",
       "1   -0.045359 -0.042909 -0.042976 -0.043042 -0.045028 -0.045095 -0.045161  \n",
       "2   -0.001425 -0.002623 -0.002590 -0.002558 -0.001587 -0.001555 -0.001522  \n",
       "3   -0.000805 -0.003605 -0.003530 -0.003454 -0.001184 -0.001108 -0.001032  \n",
       "4   -0.001160 -0.003044 -0.002993 -0.002942 -0.001414 -0.001363 -0.001312  \n",
       "..        ...       ...       ...       ...       ...       ...       ...  \n",
       "502 -0.000008 -0.004869  0.995263 -0.004606 -0.000665 -0.000534 -0.000402  \n",
       "503 -0.000097 -0.004728 -0.004603  0.995522 -0.000723 -0.000597 -0.000472  \n",
       "504 -0.002754 -0.000517 -0.000578 -0.000638  0.997548 -0.002512 -0.002572  \n",
       "505 -0.002842 -0.000377 -0.000443 -0.000510 -0.002509  0.997424 -0.002643  \n",
       "506 -0.002931 -0.000236 -0.000309 -0.000382 -0.002567 -0.002640  0.997287  \n",
       "\n",
       "[507 rows x 505 columns]"
      ]
     },
     "execution_count": 22,
     "metadata": {},
     "output_type": "execute_result"
    }
   ],
   "source": [
    "pd.DataFrame(Z)"
   ]
  },
  {
   "cell_type": "markdown",
   "metadata": {},
   "source": [
    "## coefficients"
   ]
  },
  {
   "cell_type": "code",
   "execution_count": 23,
   "metadata": {},
   "outputs": [],
   "source": [
    "beta0 = np.array([[1], [0.9]])"
   ]
  },
  {
   "cell_type": "markdown",
   "metadata": {},
   "source": [
    "## initial values for y"
   ]
  },
  {
   "cell_type": "code",
   "execution_count": 24,
   "metadata": {
    "scrolled": false
   },
   "outputs": [
    {
     "name": "stderr",
     "output_type": "stream",
     "text": [
      "<ipython-input-24-62b1223b6164>:1: FutureWarning: `rcond` parameter will change to the default of machine precision times ``max(M, N)`` where M and N are the input matrix dimensions.\n",
      "To use the future default and silence this warning we advise to pass `rcond=None`, to keep using the old, explicitly pass `rcond=-1`.\n",
      "  start = pd.Series(np.reshape(np.linalg.lstsq(A, beta0)[0], (507)))\n"
     ]
    }
   ],
   "source": [
    "start = pd.Series(np.reshape(np.linalg.lstsq(A, beta0)[0], (507)))"
   ]
  },
  {
   "cell_type": "markdown",
   "metadata": {},
   "source": [
    "## constrained gradient descent"
   ]
  },
  {
   "cell_type": "code",
   "execution_count": 25,
   "metadata": {},
   "outputs": [],
   "source": [
    "def gradient_descent(y, y0, Z, learn_rate=0.1, n_iter=100):\n",
    "    for i in range(n_iter):\n",
    "        y = y - learn_rate * Z @ (Z.T @ (2 * (y - y0)))\n",
    "    return y"
   ]
  },
  {
   "cell_type": "code",
   "execution_count": 26,
   "metadata": {},
   "outputs": [],
   "source": [
    "result = gradient_descent(start, check.Y0, Z)"
   ]
  },
  {
   "cell_type": "code",
   "execution_count": 27,
   "metadata": {},
   "outputs": [
    {
     "data": {
      "text/plain": [
       "<AxesSubplot:xlabel='X1'>"
      ]
     },
     "execution_count": 27,
     "metadata": {},
     "output_type": "execute_result"
    },
    {
     "data": {
      "image/png": "[encoded data removed]",
      "text/plain": [
       "<Figure size 432x288 with 1 Axes>"
      ]
     },
     "metadata": {
      "needs_background": "light"
     },
     "output_type": "display_data"
    }
   ],
   "source": [
    "sns.scatterplot(x=check.X1, y=result)"
   ]
  }
 ],
 "metadata": {
  "kernelspec": {
   "display_name": "Python 3",
   "language": "python",
   "name": "python3"
  },
  "language_info": {
   "codemirror_mode": {
    "name": "ipython",
    "version": 3
   },
   "file_extension": ".py",
   "mimetype": "text/x-python",
   "name": "python",
   "nbconvert_exporter": "python",
   "pygments_lexer": "ipython3",
   "version": "3.8.3"
  }
 },
 "nbformat": 4,
 "nbformat_minor": 4
}
