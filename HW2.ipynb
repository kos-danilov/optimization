{
 "cells": [
  {
   "cell_type": "markdown",
   "metadata": {},
   "source": [
    "# Import"
   ]
  },
  {
   "cell_type": "code",
   "execution_count": 306,
   "metadata": {},
   "outputs": [],
   "source": [
    "from mip import Model, xsum, maximize, BINARY \n",
    "import pandas as pd"
   ]
  },
  {
   "cell_type": "markdown",
   "metadata": {},
   "source": [
    "# Data"
   ]
  },
  {
   "cell_type": "code",
   "execution_count": 307,
   "metadata": {},
   "outputs": [
    {
     "data": {
      "text/html": [
       "<div>\n",
       "<style scoped>\n",
       "    .dataframe tbody tr th:only-of-type {\n",
       "        vertical-align: middle;\n",
       "    }\n",
       "\n",
       "    .dataframe tbody tr th {\n",
       "        vertical-align: top;\n",
       "    }\n",
       "\n",
       "    .dataframe thead th {\n",
       "        text-align: right;\n",
       "    }\n",
       "</style>\n",
       "<table border=\"1\" class=\"dataframe\">\n",
       "  <thead>\n",
       "    <tr style=\"text-align: right;\">\n",
       "      <th></th>\n",
       "      <th>Item</th>\n",
       "      <th>Price</th>\n",
       "      <th>Weigth</th>\n",
       "      <th>Volume</th>\n",
       "    </tr>\n",
       "  </thead>\n",
       "  <tbody>\n",
       "    <tr>\n",
       "      <th>0</th>\n",
       "      <td>Laptop</td>\n",
       "      <td>10</td>\n",
       "      <td>0.50</td>\n",
       "      <td>0.20</td>\n",
       "    </tr>\n",
       "    <tr>\n",
       "      <th>1</th>\n",
       "      <td>Flashcard</td>\n",
       "      <td>5</td>\n",
       "      <td>0.01</td>\n",
       "      <td>0.02</td>\n",
       "    </tr>\n",
       "    <tr>\n",
       "      <th>2</th>\n",
       "      <td>Cryptokey</td>\n",
       "      <td>1</td>\n",
       "      <td>0.01</td>\n",
       "      <td>0.02</td>\n",
       "    </tr>\n",
       "    <tr>\n",
       "      <th>3</th>\n",
       "      <td>Lamp</td>\n",
       "      <td>1</td>\n",
       "      <td>5.00</td>\n",
       "      <td>1.00</td>\n",
       "    </tr>\n",
       "    <tr>\n",
       "      <th>4</th>\n",
       "      <td>Battery</td>\n",
       "      <td>1</td>\n",
       "      <td>0.05</td>\n",
       "      <td>0.06</td>\n",
       "    </tr>\n",
       "    <tr>\n",
       "      <th>5</th>\n",
       "      <td>Charger</td>\n",
       "      <td>0</td>\n",
       "      <td>0.01</td>\n",
       "      <td>0.06</td>\n",
       "    </tr>\n",
       "  </tbody>\n",
       "</table>\n",
       "</div>"
      ],
      "text/plain": [
       "        Item  Price  Weigth  Volume\n",
       "0     Laptop     10    0.50    0.20\n",
       "1  Flashcard      5    0.01    0.02\n",
       "2  Cryptokey      1    0.01    0.02\n",
       "3       Lamp      1    5.00    1.00\n",
       "4    Battery      1    0.05    0.06\n",
       "5    Charger      0    0.01    0.06"
      ]
     },
     "execution_count": 307,
     "metadata": {},
     "output_type": "execute_result"
    }
   ],
   "source": [
    "data = pd.read_csv('knapsack.txt', sep=\" \", names=['Item', 'Price', 'Weigth', 'Volume'])\n",
    "data"
   ]
  },
  {
   "cell_type": "code",
   "execution_count": 308,
   "metadata": {},
   "outputs": [],
   "source": [
    "dependencies = {}\n",
    "with open('dependencies.txt') as f:\n",
    "    for line in f:\n",
    "        curr_line = line.split()\n",
    "        dependencies[curr_line[-1]] = curr_line[:-1]"
   ]
  },
  {
   "cell_type": "code",
   "execution_count": 309,
   "metadata": {},
   "outputs": [
    {
     "data": {
      "text/plain": [
       "{'Cryptokey': ['Flashcard'],\n",
       " 'Flashcard': ['Laptop'],\n",
       " 'Laptop': ['Battery', 'Charger']}"
      ]
     },
     "execution_count": 309,
     "metadata": {},
     "output_type": "execute_result"
    }
   ],
   "source": [
    "dependencies"
   ]
  },
  {
   "cell_type": "code",
   "execution_count": 310,
   "metadata": {},
   "outputs": [],
   "source": [
    "oversized = {}\n",
    "with open('oversized.txt') as f:\n",
    "    for line in f:\n",
    "        curr_line = line.split()\n",
    "        oversized[curr_line[0]] = float(curr_line[1])"
   ]
  },
  {
   "cell_type": "code",
   "execution_count": 311,
   "metadata": {},
   "outputs": [
    {
     "data": {
      "text/plain": [
       "{'Laptop': 0.05, 'Lamp': 0.01}"
      ]
     },
     "execution_count": 311,
     "metadata": {},
     "output_type": "execute_result"
    }
   ],
   "source": [
    "oversized"
   ]
  },
  {
   "cell_type": "markdown",
   "metadata": {},
   "source": [
    "# Simple knapsack"
   ]
  },
  {
   "cell_type": "code",
   "execution_count": 312,
   "metadata": {},
   "outputs": [],
   "source": [
    "def simple_knapsack(c, data):\n",
    "    p = list(data['Price'])\n",
    "    w = list(data['Weigth'])\n",
    "    I = range(len(w))\n",
    "\n",
    "    m = Model('knapsack')\n",
    "\n",
    "    x = [m.add_var(var_type=BINARY) for i in I]\n",
    "    m.objective = maximize(xsum(p[i] * x[i] for i in I))\n",
    "    m += xsum(w[i] * x[i] for i in I) <= c\n",
    "    m.optimize()\n",
    "\n",
    "    selected = [i for i in I if x[i].x >= 0.99]\n",
    "    print('maximum weigth: {}'.format(c))\n",
    "    print(\"selected items: {}\".format(\", \".join(data[data.index.isin(selected)].Item.to_list())))"
   ]
  },
  {
   "cell_type": "code",
   "execution_count": 313,
   "metadata": {},
   "outputs": [
    {
     "data": {
      "text/html": [
       "<div>\n",
       "<style scoped>\n",
       "    .dataframe tbody tr th:only-of-type {\n",
       "        vertical-align: middle;\n",
       "    }\n",
       "\n",
       "    .dataframe tbody tr th {\n",
       "        vertical-align: top;\n",
       "    }\n",
       "\n",
       "    .dataframe thead th {\n",
       "        text-align: right;\n",
       "    }\n",
       "</style>\n",
       "<table border=\"1\" class=\"dataframe\">\n",
       "  <thead>\n",
       "    <tr style=\"text-align: right;\">\n",
       "      <th></th>\n",
       "      <th>Item</th>\n",
       "      <th>Price</th>\n",
       "      <th>Weigth</th>\n",
       "      <th>Volume</th>\n",
       "    </tr>\n",
       "  </thead>\n",
       "  <tbody>\n",
       "    <tr>\n",
       "      <th>0</th>\n",
       "      <td>Laptop</td>\n",
       "      <td>10</td>\n",
       "      <td>0.50</td>\n",
       "      <td>0.20</td>\n",
       "    </tr>\n",
       "    <tr>\n",
       "      <th>1</th>\n",
       "      <td>Flashcard</td>\n",
       "      <td>5</td>\n",
       "      <td>0.01</td>\n",
       "      <td>0.02</td>\n",
       "    </tr>\n",
       "    <tr>\n",
       "      <th>2</th>\n",
       "      <td>Cryptokey</td>\n",
       "      <td>1</td>\n",
       "      <td>0.01</td>\n",
       "      <td>0.02</td>\n",
       "    </tr>\n",
       "    <tr>\n",
       "      <th>3</th>\n",
       "      <td>Lamp</td>\n",
       "      <td>1</td>\n",
       "      <td>5.00</td>\n",
       "      <td>1.00</td>\n",
       "    </tr>\n",
       "    <tr>\n",
       "      <th>4</th>\n",
       "      <td>Battery</td>\n",
       "      <td>1</td>\n",
       "      <td>0.05</td>\n",
       "      <td>0.06</td>\n",
       "    </tr>\n",
       "    <tr>\n",
       "      <th>5</th>\n",
       "      <td>Charger</td>\n",
       "      <td>0</td>\n",
       "      <td>0.01</td>\n",
       "      <td>0.06</td>\n",
       "    </tr>\n",
       "  </tbody>\n",
       "</table>\n",
       "</div>"
      ],
      "text/plain": [
       "        Item  Price  Weigth  Volume\n",
       "0     Laptop     10    0.50    0.20\n",
       "1  Flashcard      5    0.01    0.02\n",
       "2  Cryptokey      1    0.01    0.02\n",
       "3       Lamp      1    5.00    1.00\n",
       "4    Battery      1    0.05    0.06\n",
       "5    Charger      0    0.01    0.06"
      ]
     },
     "execution_count": 313,
     "metadata": {},
     "output_type": "execute_result"
    }
   ],
   "source": [
    "data"
   ]
  },
  {
   "cell_type": "code",
   "execution_count": 314,
   "metadata": {},
   "outputs": [
    {
     "name": "stdout",
     "output_type": "stream",
     "text": [
      "maximum weigth: 0.01\n",
      "selected items: Flashcard\n"
     ]
    }
   ],
   "source": [
    "simple_knapsack(0.01, data)"
   ]
  },
  {
   "cell_type": "code",
   "execution_count": 315,
   "metadata": {},
   "outputs": [
    {
     "name": "stdout",
     "output_type": "stream",
     "text": [
      "maximum weigth: 0.02\n",
      "selected items: Flashcard, Cryptokey\n"
     ]
    }
   ],
   "source": [
    "simple_knapsack(0.02, data)"
   ]
  },
  {
   "cell_type": "code",
   "execution_count": 316,
   "metadata": {},
   "outputs": [
    {
     "name": "stdout",
     "output_type": "stream",
     "text": [
      "maximum weigth: 0.07\n",
      "selected items: Flashcard, Cryptokey, Battery\n",
      "maximum weigth: 0.49\n",
      "selected items: Flashcard, Cryptokey, Battery\n"
     ]
    }
   ],
   "source": [
    "simple_knapsack(0.07, data)\n",
    "simple_knapsack(0.49, data)"
   ]
  },
  {
   "cell_type": "code",
   "execution_count": 317,
   "metadata": {},
   "outputs": [
    {
     "name": "stdout",
     "output_type": "stream",
     "text": [
      "maximum weigth: 0.5\n",
      "selected items: Laptop\n"
     ]
    }
   ],
   "source": [
    "simple_knapsack(0.5, data)"
   ]
  },
  {
   "cell_type": "code",
   "execution_count": 318,
   "metadata": {},
   "outputs": [
    {
     "name": "stdout",
     "output_type": "stream",
     "text": [
      "maximum weigth: inf\n",
      "selected items: Laptop, Flashcard, Cryptokey, Lamp, Battery\n"
     ]
    }
   ],
   "source": [
    "simple_knapsack(float('Inf'), data)"
   ]
  },
  {
   "cell_type": "markdown",
   "metadata": {},
   "source": [
    "# Knapsack problem with dependencies"
   ]
  },
  {
   "cell_type": "code",
   "execution_count": 319,
   "metadata": {},
   "outputs": [],
   "source": [
    "def deps_knapsack(c, data, dependencies):\n",
    "    p = list(data['Price'])\n",
    "    w = list(data['Weigth'])\n",
    "    I = range(len(w))\n",
    "\n",
    "    m = Model('knapsack')\n",
    "\n",
    "    x = [m.add_var(var_type=BINARY) for i in I]\n",
    "    m.objective = maximize(xsum(p[i] * x[i] for i in I))\n",
    "    m += xsum(w[i] * x[i] for i in I) <= c\n",
    "\n",
    "    for key, value in dependencies.items():\n",
    "        m += xsum(x[i] for i in data[data.Item.isin(value)].index.to_list()) >= x[data[data.Item == key].index.to_list()[0]]\n",
    "\n",
    "    m.optimize()\n",
    "\n",
    "    selected = [i for i in I if x[i].x >= 0.99]\n",
    "    print('maximum weigth: {}'.format(c))\n",
    "    print(\"selected items: {}\".format(\", \".join(data[data.index.isin(selected)].Item.to_list())))"
   ]
  },
  {
   "cell_type": "code",
   "execution_count": 320,
   "metadata": {},
   "outputs": [
    {
     "data": {
      "text/html": [
       "<div>\n",
       "<style scoped>\n",
       "    .dataframe tbody tr th:only-of-type {\n",
       "        vertical-align: middle;\n",
       "    }\n",
       "\n",
       "    .dataframe tbody tr th {\n",
       "        vertical-align: top;\n",
       "    }\n",
       "\n",
       "    .dataframe thead th {\n",
       "        text-align: right;\n",
       "    }\n",
       "</style>\n",
       "<table border=\"1\" class=\"dataframe\">\n",
       "  <thead>\n",
       "    <tr style=\"text-align: right;\">\n",
       "      <th></th>\n",
       "      <th>Item</th>\n",
       "      <th>Price</th>\n",
       "      <th>Weigth</th>\n",
       "      <th>Volume</th>\n",
       "    </tr>\n",
       "  </thead>\n",
       "  <tbody>\n",
       "    <tr>\n",
       "      <th>0</th>\n",
       "      <td>Laptop</td>\n",
       "      <td>10</td>\n",
       "      <td>0.50</td>\n",
       "      <td>0.20</td>\n",
       "    </tr>\n",
       "    <tr>\n",
       "      <th>1</th>\n",
       "      <td>Flashcard</td>\n",
       "      <td>5</td>\n",
       "      <td>0.01</td>\n",
       "      <td>0.02</td>\n",
       "    </tr>\n",
       "    <tr>\n",
       "      <th>2</th>\n",
       "      <td>Cryptokey</td>\n",
       "      <td>1</td>\n",
       "      <td>0.01</td>\n",
       "      <td>0.02</td>\n",
       "    </tr>\n",
       "    <tr>\n",
       "      <th>3</th>\n",
       "      <td>Lamp</td>\n",
       "      <td>1</td>\n",
       "      <td>5.00</td>\n",
       "      <td>1.00</td>\n",
       "    </tr>\n",
       "    <tr>\n",
       "      <th>4</th>\n",
       "      <td>Battery</td>\n",
       "      <td>1</td>\n",
       "      <td>0.05</td>\n",
       "      <td>0.06</td>\n",
       "    </tr>\n",
       "    <tr>\n",
       "      <th>5</th>\n",
       "      <td>Charger</td>\n",
       "      <td>0</td>\n",
       "      <td>0.01</td>\n",
       "      <td>0.06</td>\n",
       "    </tr>\n",
       "  </tbody>\n",
       "</table>\n",
       "</div>"
      ],
      "text/plain": [
       "        Item  Price  Weigth  Volume\n",
       "0     Laptop     10    0.50    0.20\n",
       "1  Flashcard      5    0.01    0.02\n",
       "2  Cryptokey      1    0.01    0.02\n",
       "3       Lamp      1    5.00    1.00\n",
       "4    Battery      1    0.05    0.06\n",
       "5    Charger      0    0.01    0.06"
      ]
     },
     "execution_count": 320,
     "metadata": {},
     "output_type": "execute_result"
    }
   ],
   "source": [
    "data"
   ]
  },
  {
   "cell_type": "code",
   "execution_count": 321,
   "metadata": {},
   "outputs": [
    {
     "data": {
      "text/plain": [
       "{'Cryptokey': ['Flashcard'],\n",
       " 'Flashcard': ['Laptop'],\n",
       " 'Laptop': ['Battery', 'Charger']}"
      ]
     },
     "execution_count": 321,
     "metadata": {},
     "output_type": "execute_result"
    }
   ],
   "source": [
    "dependencies"
   ]
  },
  {
   "cell_type": "code",
   "execution_count": 322,
   "metadata": {},
   "outputs": [
    {
     "name": "stdout",
     "output_type": "stream",
     "text": [
      "maximum weigth: 0.04\n",
      "selected items: \n"
     ]
    }
   ],
   "source": [
    "# we can not take Flashcard or Cryptokey because of dependencies\n",
    "deps_knapsack(0.04, data, dependencies)"
   ]
  },
  {
   "cell_type": "code",
   "execution_count": 323,
   "metadata": {},
   "outputs": [
    {
     "name": "stdout",
     "output_type": "stream",
     "text": [
      "maximum weigth: 0.05\n",
      "selected items: Battery\n",
      "maximum weigth: 0.5\n",
      "selected items: Battery\n",
      "maximum weigth: 0.51\n",
      "selected items: Laptop, Charger\n"
     ]
    }
   ],
   "source": [
    "# only Battery is acceptable at 0.05 until 0.51 (Charger + Laptop = 10)\n",
    "deps_knapsack(0.05, data, dependencies)\n",
    "deps_knapsack(0.5, data, dependencies)\n",
    "deps_knapsack(0.51, data, dependencies)"
   ]
  },
  {
   "cell_type": "code",
   "execution_count": 324,
   "metadata": {},
   "outputs": [
    {
     "name": "stdout",
     "output_type": "stream",
     "text": [
      "maximum weigth: 0.52\n",
      "selected items: Laptop, Flashcard, Charger\n",
      "maximum weigth: 0.53\n",
      "selected items: Laptop, Flashcard, Cryptokey, Charger\n",
      "maximum weigth: 0.57\n",
      "selected items: Laptop, Flashcard, Cryptokey, Battery\n"
     ]
    }
   ],
   "source": [
    "deps_knapsack(0.52, data, dependencies)\n",
    "deps_knapsack(0.53, data, dependencies)\n",
    "deps_knapsack(0.57, data, dependencies)"
   ]
  },
  {
   "cell_type": "code",
   "execution_count": 325,
   "metadata": {},
   "outputs": [
    {
     "name": "stdout",
     "output_type": "stream",
     "text": [
      "maximum weigth: inf\n",
      "selected items: Laptop, Flashcard, Cryptokey, Lamp, Battery, Charger\n"
     ]
    }
   ],
   "source": [
    "deps_knapsack(float('Inf'), data, dependencies)"
   ]
  },
  {
   "cell_type": "markdown",
   "metadata": {},
   "source": [
    "# Knapsack problem with oversize items"
   ]
  },
  {
   "cell_type": "code",
   "execution_count": 326,
   "metadata": {},
   "outputs": [],
   "source": [
    "def vol_knapsack(c, data, oversized):\n",
    "    p = list(data['Price'])\n",
    "    w = list(data['Weigth'])\n",
    "    v = list(data['Volume'])\n",
    "    I = range(len(w))\n",
    "\n",
    "    m = Model('knapsack')\n",
    "\n",
    "    x = [m.add_var(var_type=BINARY) for i in I]\n",
    "\n",
    "    z = {}\n",
    "    for key in oversized:\n",
    "        z[key] = [m.add_var(var_type=BINARY) for i in I]\n",
    "\n",
    "    m.objective = maximize(xsum(p[i] * x[i] for i in I))\n",
    "    m += xsum(w[i] * x[i] for i in I) <= c\n",
    "\n",
    "    ind_over = 0\n",
    "    vol_over = 0.05\n",
    "\n",
    "    for key, vol_over in oversized.items():\n",
    "        ind_over = data[data.Item == key].index.to_list()[0]\n",
    "        for i in I:\n",
    "            m += z[key][i] <= x[ind_over]\n",
    "\n",
    "        for i in I:\n",
    "            m += z[key][i] <= x[i]\n",
    "\n",
    "        for i in I:\n",
    "            m += x[i] + x[ind_over] - 1 <= z[key][i]\n",
    "\n",
    "        for i in I:\n",
    "            if i == ind_over:\n",
    "                pass\n",
    "            else:\n",
    "                m += v[i] * z[key][i] <= vol_over\n",
    "\n",
    "    m.optimize()\n",
    "\n",
    "    selected = [i for i in I if x[i].x >= 0.99]\n",
    "    print('maximum weigth: {}'.format(c))\n",
    "    print(\"selected items: {}\".format(\", \".join(data[data.index.isin(selected)].Item.to_list())))"
   ]
  },
  {
   "cell_type": "code",
   "execution_count": 327,
   "metadata": {},
   "outputs": [
    {
     "data": {
      "text/html": [
       "<div>\n",
       "<style scoped>\n",
       "    .dataframe tbody tr th:only-of-type {\n",
       "        vertical-align: middle;\n",
       "    }\n",
       "\n",
       "    .dataframe tbody tr th {\n",
       "        vertical-align: top;\n",
       "    }\n",
       "\n",
       "    .dataframe thead th {\n",
       "        text-align: right;\n",
       "    }\n",
       "</style>\n",
       "<table border=\"1\" class=\"dataframe\">\n",
       "  <thead>\n",
       "    <tr style=\"text-align: right;\">\n",
       "      <th></th>\n",
       "      <th>Item</th>\n",
       "      <th>Price</th>\n",
       "      <th>Weigth</th>\n",
       "      <th>Volume</th>\n",
       "    </tr>\n",
       "  </thead>\n",
       "  <tbody>\n",
       "    <tr>\n",
       "      <th>0</th>\n",
       "      <td>Laptop</td>\n",
       "      <td>10</td>\n",
       "      <td>0.50</td>\n",
       "      <td>0.20</td>\n",
       "    </tr>\n",
       "    <tr>\n",
       "      <th>1</th>\n",
       "      <td>Flashcard</td>\n",
       "      <td>5</td>\n",
       "      <td>0.01</td>\n",
       "      <td>0.02</td>\n",
       "    </tr>\n",
       "    <tr>\n",
       "      <th>2</th>\n",
       "      <td>Cryptokey</td>\n",
       "      <td>1</td>\n",
       "      <td>0.01</td>\n",
       "      <td>0.02</td>\n",
       "    </tr>\n",
       "    <tr>\n",
       "      <th>3</th>\n",
       "      <td>Lamp</td>\n",
       "      <td>1</td>\n",
       "      <td>5.00</td>\n",
       "      <td>1.00</td>\n",
       "    </tr>\n",
       "    <tr>\n",
       "      <th>4</th>\n",
       "      <td>Battery</td>\n",
       "      <td>1</td>\n",
       "      <td>0.05</td>\n",
       "      <td>0.06</td>\n",
       "    </tr>\n",
       "    <tr>\n",
       "      <th>5</th>\n",
       "      <td>Charger</td>\n",
       "      <td>0</td>\n",
       "      <td>0.01</td>\n",
       "      <td>0.06</td>\n",
       "    </tr>\n",
       "  </tbody>\n",
       "</table>\n",
       "</div>"
      ],
      "text/plain": [
       "        Item  Price  Weigth  Volume\n",
       "0     Laptop     10    0.50    0.20\n",
       "1  Flashcard      5    0.01    0.02\n",
       "2  Cryptokey      1    0.01    0.02\n",
       "3       Lamp      1    5.00    1.00\n",
       "4    Battery      1    0.05    0.06\n",
       "5    Charger      0    0.01    0.06"
      ]
     },
     "execution_count": 327,
     "metadata": {},
     "output_type": "execute_result"
    }
   ],
   "source": [
    "data"
   ]
  },
  {
   "cell_type": "code",
   "execution_count": 328,
   "metadata": {},
   "outputs": [
    {
     "data": {
      "text/plain": [
       "{'Laptop': 0.05, 'Lamp': 0.01}"
      ]
     },
     "execution_count": 328,
     "metadata": {},
     "output_type": "execute_result"
    }
   ],
   "source": [
    "oversized"
   ]
  },
  {
   "cell_type": "code",
   "execution_count": 329,
   "metadata": {},
   "outputs": [
    {
     "name": "stdout",
     "output_type": "stream",
     "text": [
      "maximum weigth: 0.49\n",
      "selected items: Flashcard, Cryptokey, Battery\n"
     ]
    }
   ],
   "source": [
    "vol_knapsack(0.49, data, oversized)"
   ]
  },
  {
   "cell_type": "code",
   "execution_count": 330,
   "metadata": {},
   "outputs": [
    {
     "name": "stdout",
     "output_type": "stream",
     "text": [
      "maximum weigth: 0.5\n",
      "selected items: Laptop\n"
     ]
    }
   ],
   "source": [
    "vol_knapsack(0.5, data, oversized)"
   ]
  },
  {
   "cell_type": "code",
   "execution_count": 331,
   "metadata": {},
   "outputs": [
    {
     "name": "stdout",
     "output_type": "stream",
     "text": [
      "maximum weigth: 0.51\n",
      "selected items: Laptop, Flashcard\n",
      "maximum weigth: 0.52\n",
      "selected items: Laptop, Flashcard, Cryptokey\n",
      "maximum weigth: 0.57\n",
      "selected items: Laptop, Flashcard, Cryptokey\n"
     ]
    }
   ],
   "source": [
    "vol_knapsack(0.51, data, oversized)\n",
    "vol_knapsack(0.52, data, oversized)\n",
    "vol_knapsack(0.57, data, oversized)"
   ]
  },
  {
   "cell_type": "code",
   "execution_count": 332,
   "metadata": {},
   "outputs": [
    {
     "name": "stdout",
     "output_type": "stream",
     "text": [
      "maximum weigth: 0.57\n",
      "selected items: Laptop, Flashcard, Cryptokey, Battery\n",
      "maximum weigth: 0.57\n",
      "selected items: Laptop, Flashcard, Cryptokey\n"
     ]
    }
   ],
   "source": [
    "# in simple knapsack we allow to take Battery with 0.57 weigth restriction, \n",
    "# but in volume knapsack Battery has larger volume (0.06) than we can take after Laptop (0.05)\n",
    "simple_knapsack(0.57, data)\n",
    "vol_knapsack(0.57, data, oversized)"
   ]
  },
  {
   "cell_type": "code",
   "execution_count": 333,
   "metadata": {},
   "outputs": [
    {
     "name": "stdout",
     "output_type": "stream",
     "text": [
      "maximum weigth: inf\n",
      "selected items: Laptop, Flashcard, Cryptokey, Lamp, Battery\n",
      "maximum weigth: inf\n",
      "selected items: Laptop, Flashcard, Cryptokey\n"
     ]
    }
   ],
   "source": [
    "# Even without weigth restriction we can not take Battery in volume knapsack because of\n",
    "# volume restriction\n",
    "simple_knapsack(float('Inf'), data)\n",
    "vol_knapsack(float('Inf'), data, oversized)"
   ]
  }
 ],
 "metadata": {
  "kernelspec": {
   "display_name": "Python 3",
   "language": "python",
   "name": "python3"
  },
  "language_info": {
   "codemirror_mode": {
    "name": "ipython",
    "version": 3
   },
   "file_extension": ".py",
   "mimetype": "text/x-python",
   "name": "python",
   "nbconvert_exporter": "python",
   "pygments_lexer": "ipython3",
   "version": "3.8.3"
  }
 },
 "nbformat": 4,
 "nbformat_minor": 4
}
